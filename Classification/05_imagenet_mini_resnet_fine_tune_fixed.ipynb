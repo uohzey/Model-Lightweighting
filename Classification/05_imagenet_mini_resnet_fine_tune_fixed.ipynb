{
 "cells": [
  {
   "cell_type": "code",
   "execution_count": 1,
   "id": "3d3ad9a0-1871-4f56-88ec-6f35e54a29ba",
   "metadata": {},
   "outputs": [
    {
     "data": {
      "application/vnd.jupyter.widget-view+json": {
       "model_id": "b8bb4a4f2be3431db7e003e392a3a471",
       "version_major": 2,
       "version_minor": 0
      },
      "text/plain": [
       "Resolving data files:   0%|          | 0/34745 [00:00<?, ?it/s]"
      ]
     },
     "metadata": {},
     "output_type": "display_data"
    },
    {
     "data": {
      "application/vnd.jupyter.widget-view+json": {
       "model_id": "3218988ffac743b0b63cbeb69ab1c839",
       "version_major": 2,
       "version_minor": 0
      },
      "text/plain": [
       "Resolving data files:   0%|          | 0/3923 [00:00<?, ?it/s]"
      ]
     },
     "metadata": {},
     "output_type": "display_data"
    }
   ],
   "source": [
    "from datasets import load_dataset\n",
    "from torchvision.transforms import Compose, RandomResizedCrop, RandomHorizontalFlip, Resize, CenterCrop, ToTensor, Normalize\n",
    "\n",
    "dataset = load_dataset(\"imagefolder\", data_dir=\"D:/Study/imagenet_mini/imagenet-mini/\")\n",
    "train_ds = dataset[\"train\"]\n",
    "val_ds = dataset[\"test\"]"
   ]
  },
  {
   "cell_type": "code",
   "execution_count": 2,
   "id": "a08f7172-72f9-4d9f-b92c-f0163d231d99",
   "metadata": {},
   "outputs": [
    {
     "name": "stderr",
     "output_type": "stream",
     "text": [
      "Using a slow image processor as `use_fast` is unset and a slow processor was saved with this model. `use_fast=True` will be the default behavior in v4.48, even if the model was saved with a slow processor. This will result in minor differences in outputs. You'll still be able to use a slow processor with `use_fast=False`.\n"
     ]
    }
   ],
   "source": [
    "from transformers import AutoImageProcessor\n",
    "from torchvision.transforms import ColorJitter, RandomRotation, GaussianBlur\n",
    "from torch.utils.data import DataLoader\n",
    "\n",
    "processor = AutoImageProcessor.from_pretrained(\"microsoft/resnet-50\", cache_dir = \"D:/Study/microsoft/\")\n",
    "size = processor.size[\"shortest_edge\"]\n",
    "\n",
    "normalize = Normalize(mean=processor.image_mean, std=processor.image_std)\n",
    "\n",
    "train_transforms = Compose([\n",
    "    RandomResizedCrop(size, scale=(0.6, 1.0)),  # 扩大随机裁剪范围\n",
    "    RandomHorizontalFlip(),\n",
    "    ColorJitter(brightness=0.2, contrast=0.2, saturation=0.2),  # 颜色抖动\n",
    "    RandomRotation(15),          # 随机旋转 ±15度\n",
    "    GaussianBlur(kernel_size=3), # 轻微模糊\n",
    "    ToTensor(),\n",
    "    normalize,\n",
    "])\n",
    "\n",
    "val_transforms = Compose([\n",
    "    Resize(256),\n",
    "    CenterCrop(size),\n",
    "    ToTensor(),\n",
    "    normalize,\n",
    "])\n",
    "\n",
    "# 应用预处理函数\n",
    "def preprocess_train(examples):\n",
    "    examples['pixel_values'] = [train_transforms(img.convert('RGB')) for img in examples['image']]\n",
    "    return examples\n",
    "\n",
    "def preprocess_val(examples):\n",
    "    examples['pixel_values'] = [val_transforms(img.convert('RGB')) for img in examples['image']]\n",
    "    return examples\n",
    "\n",
    "# 修改数据集加载方式（动态处理，避免内存缓存）\n",
    "train_dataset = train_ds.with_transform(preprocess_train)  # 替换 map\n",
    "val_dataset = val_ds.with_transform(preprocess_val)\n",
    "\n",
    "# 调整 DataLoader 配置（启用多进程加速）\n",
    "batch_size = 256  # 增大批量大小以利用 GPU 并行计算\n",
    "num_workers = 0   # 根据 CPU 核心数调整\n",
    "\n",
    "def collate_fn(batch):\n",
    "    pixel_values = torch.stack([item[\"pixel_values\"] for item in batch])\n",
    "    labels = torch.tensor([item[\"label\"] for item in batch])\n",
    "    return {\"pixel_values\": pixel_values, \"label\": labels}\n",
    "\n",
    "train_loader = DataLoader(\n",
    "    train_dataset,\n",
    "    batch_size=batch_size,\n",
    "    shuffle=True,\n",
    "    num_workers=num_workers,\n",
    "    collate_fn=collate_fn,\n",
    "    pin_memory=True,\n",
    ")\n",
    "\n",
    "val_loader = DataLoader(\n",
    "    val_dataset,\n",
    "    batch_size=batch_size,\n",
    "    num_workers=num_workers,\n",
    "    collate_fn=collate_fn,\n",
    "    pin_memory=True,\n",
    ")\n",
    "\n",
    "# train_dataset.with_format(\"torch\", columns=[\"pixel_values\", \"label\"])\n",
    "# val_dataset.with_format(\"torch\", columns=[\"pixel_values\", \"label\"])"
   ]
  },
  {
   "cell_type": "code",
   "execution_count": 3,
   "id": "93a87ff4-da46-471a-bdc8-895b73209cea",
   "metadata": {},
   "outputs": [],
   "source": [
    "from transformers import ResNetForImageClassification\n",
    "\n",
    "# 加载模型\n",
    "model = ResNetForImageClassification.from_pretrained(\n",
    "    \"microsoft/resnet-18\",\n",
    "    cache_dir = \"D:/Study/microsoft/\",\n",
    "    num_labels=1000,\n",
    "    ignore_mismatched_sizes=True\n",
    ")\n",
    "\n",
    "# 冻结所有层（默认情况下参数是requires_grad=True）\n",
    "for param in model.parameters():\n",
    "    param.requires_grad = False\n",
    "\n",
    "# # 仅解冻分类头（最后一层）\n",
    "for param in model.classifier.parameters():\n",
    "    param.requires_grad = True\n",
    "\n",
    "# 或者解冻最后几个阶段（例如stage3）\n",
    "# for name, param in model.named_parameters():\n",
    "#     if \"stages.3\" in name:  # 根据ResNet结构选择解冻的层\n",
    "#         param.requires_grad = True"
   ]
  },
  {
   "cell_type": "code",
   "execution_count": 4,
   "id": "5d55f59d-8865-419c-84c2-ca9ab938cbbf",
   "metadata": {},
   "outputs": [
    {
     "name": "stderr",
     "output_type": "stream",
     "text": [
      "D:\\miniforge3\\envs\\torch\\lib\\site-packages\\PIL\\TiffImagePlugin.py:858: UserWarning: Truncated File Read\n",
      "  warnings.warn(str(msg))\n"
     ]
    },
    {
     "name": "stdout",
     "output_type": "stream",
     "text": [
      "Epoch 1/10, Train Loss: 1.5071, Val Loss: 1.4569, Val Acc: 0.6449, Epoch Time: 753.68s, Total Time: 753.68s\n",
      "Saved best model!\n",
      "Epoch 2/10, Train Loss: 1.4233, Val Loss: 1.4542, Val Acc: 0.6492, Epoch Time: 790.46s, Total Time: 1544.15s\n",
      "Saved best model!\n",
      "Epoch 3/10, Train Loss: 1.3577, Val Loss: 1.4659, Val Acc: 0.6464, Epoch Time: 795.17s, Total Time: 2339.32s\n",
      "Epoch 4/10, Train Loss: 1.3165, Val Loss: 1.4668, Val Acc: 0.6459, Epoch Time: 799.89s, Total Time: 3139.21s\n",
      "Epoch 5/10, Train Loss: 1.2576, Val Loss: 1.4829, Val Acc: 0.6385, Epoch Time: 757.98s, Total Time: 3897.19s\n",
      "Epoch 6/10, Train Loss: 1.2069, Val Loss: 1.4982, Val Acc: 0.6408, Epoch Time: 838.91s, Total Time: 4736.10s\n",
      "Epoch 7/10, Train Loss: 1.1719, Val Loss: 1.5085, Val Acc: 0.6347, Epoch Time: 836.07s, Total Time: 5572.16s\n",
      "Epoch 8/10, Train Loss: 1.1348, Val Loss: 1.5102, Val Acc: 0.6332, Epoch Time: 846.89s, Total Time: 6419.05s\n",
      "Epoch 9/10, Train Loss: 1.0998, Val Loss: 1.5246, Val Acc: 0.6337, Epoch Time: 842.30s, Total Time: 7261.35s\n",
      "Epoch 10/10, Train Loss: 1.0707, Val Loss: 1.5309, Val Acc: 0.6273, Epoch Time: 810.29s, Total Time: 8071.65s\n"
     ]
    }
   ],
   "source": [
    "import torch\n",
    "from torch.cuda.amp import autocast, GradScaler\n",
    "from torch import nn\n",
    "from torch.optim import AdamW\n",
    "from torch.optim.lr_scheduler import CosineAnnealingLR\n",
    "import time\n",
    "\n",
    "device = torch.device(\"cuda\" if torch.cuda.is_available() else \"cpu\")\n",
    "model.to(device)\n",
    "\n",
    "epochs = 10  # 根据需求调整\n",
    "best_val_acc = 0.0\n",
    "total_time = 0.0\n",
    "\n",
    "# 交叉熵损失函数\n",
    "loss_fn = nn.CrossEntropyLoss()\n",
    "\n",
    "# 筛选需要训练的参数\n",
    "trainable_params = [p for p in model.parameters() if p.requires_grad]\n",
    "\n",
    "# 使用AdamW优化器，学习率根据任务调整\n",
    "optimizer = AdamW(trainable_params, lr=5e-4, weight_decay=1e-4)\n",
    "scheduler = CosineAnnealingLR(optimizer, T_max=epochs, eta_min=1e-6)\n",
    "\n",
    "scaler = GradScaler()  # 在训练循环外初始化\n",
    "\n",
    "# 修改训练循环中的前向和反向传播\n",
    "for batch in train_loader:\n",
    "    inputs = batch[\"pixel_values\"].to(device)\n",
    "    labels = batch[\"label\"].to(device)\n",
    "    \n",
    "    optimizer.zero_grad()\n",
    "    \n",
    "    # 启用混合精度\n",
    "    with autocast():\n",
    "        outputs = model(inputs)\n",
    "        loss = loss_fn(outputs.logits, labels)\n",
    "    \n",
    "    # 缩放梯度并反向传播\n",
    "    scaler.scale(loss).backward()\n",
    "    scaler.step(optimizer)\n",
    "    scaler.update()\n",
    "\n",
    "for epoch in range(epochs):\n",
    "    start_time = time.time()\n",
    "    # 训练阶段\n",
    "    model.train()\n",
    "    train_loss = 0.0\n",
    "    for batch in train_loader:\n",
    "        inputs = batch[\"pixel_values\"].to(device)\n",
    "        labels = batch[\"label\"].to(device)\n",
    "        \n",
    "        optimizer.zero_grad()\n",
    "        # 启用混合精度\n",
    "        with autocast():\n",
    "            outputs = model(inputs)\n",
    "            loss = loss_fn(outputs.logits, labels)\n",
    "        \n",
    "        # 缩放梯度并反向传播\n",
    "        scaler.scale(loss).backward()\n",
    "        scaler.step(optimizer)\n",
    "        scaler.update()\n",
    "        train_loss += loss.item()\n",
    "    \n",
    "    # 验证阶段\n",
    "    model.eval()\n",
    "    val_loss = 0.0\n",
    "    correct = 0\n",
    "    total = 0\n",
    "    with torch.no_grad():\n",
    "        for batch in val_loader:\n",
    "            inputs = batch[\"pixel_values\"].to(device)\n",
    "            labels = batch[\"label\"].to(device)\n",
    "            \n",
    "            outputs = model(inputs)\n",
    "            loss = loss_fn(outputs.logits, labels)\n",
    "            val_loss += loss.item()\n",
    "            \n",
    "            _, predicted = torch.max(outputs.logits, 1)\n",
    "            total += labels.size(0)\n",
    "            correct += (predicted == labels).sum().item()\n",
    "\n",
    "    epoch_time = time.time() - start_time\n",
    "    total_time += epoch_time\n",
    "    \n",
    "    # 计算指标\n",
    "    avg_train_loss = train_loss / len(train_loader)\n",
    "    avg_val_loss = val_loss / len(val_loader)\n",
    "    val_acc = correct / total\n",
    "    \n",
    "    print(\n",
    "        f'Epoch {epoch+1}/{epochs}, '\n",
    "        f'Train Loss: {avg_train_loss:.4f}, '\n",
    "        f'Val Loss: {avg_val_loss:.4f}, '\n",
    "        f'Val Acc: {val_acc:.4f}, '\n",
    "        f'Epoch Time: {epoch_time:.2f}s, '\n",
    "        f'Total Time: {total_time:.2f}s'\n",
    "    )\n",
    "    # 保存最佳模型\n",
    "    if val_acc > best_val_acc:\n",
    "        best_val_acc = val_acc\n",
    "        torch.save(model.state_dict(), \"resnet-18_classfication_imagenet_mini.pth\")\n",
    "        print(\"Saved best model!\")"
   ]
  },
  {
   "cell_type": "code",
   "execution_count": null,
   "id": "508b60e2-bf54-487d-9326-ff3feef413fc",
   "metadata": {},
   "outputs": [],
   "source": []
  },
  {
   "cell_type": "code",
   "execution_count": null,
   "id": "680fbb93-6ba3-4d7b-872e-395026f80a9d",
   "metadata": {},
   "outputs": [],
   "source": []
  }
 ],
 "metadata": {
  "kernelspec": {
   "display_name": "torch",
   "language": "python",
   "name": "torch"
  },
  "language_info": {
   "codemirror_mode": {
    "name": "ipython",
    "version": 3
   },
   "file_extension": ".py",
   "mimetype": "text/x-python",
   "name": "python",
   "nbconvert_exporter": "python",
   "pygments_lexer": "ipython3",
   "version": "3.10.16"
  }
 },
 "nbformat": 4,
 "nbformat_minor": 5
}
