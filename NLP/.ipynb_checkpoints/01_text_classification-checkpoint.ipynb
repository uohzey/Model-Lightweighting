{
 "cells": [
  {
   "cell_type": "code",
   "execution_count": 1,
   "id": "27e4bc3e-cad2-48fc-b08a-0f0d19164efb",
   "metadata": {},
   "outputs": [
    {
     "ename": "ModuleNotFoundError",
     "evalue": "No module named 'datasets'",
     "output_type": "error",
     "traceback": [
      "\u001b[1;31m---------------------------------------------------------------------------\u001b[0m",
      "\u001b[1;31mModuleNotFoundError\u001b[0m                       Traceback (most recent call last)",
      "Cell \u001b[1;32mIn[1], line 1\u001b[0m\n\u001b[1;32m----> 1\u001b[0m \u001b[38;5;28;01mfrom\u001b[39;00m\u001b[38;5;250m \u001b[39m\u001b[38;5;21;01mdatasets\u001b[39;00m\u001b[38;5;250m \u001b[39m\u001b[38;5;28;01mimport\u001b[39;00m list_datasets\n",
      "\u001b[1;31mModuleNotFoundError\u001b[0m: No module named 'datasets'"
     ]
    }
   ],
   "source": [
    "from datasets import list_datasets"
   ]
  },
  {
   "cell_type": "code",
   "execution_count": null,
   "id": "41cc5e8a-e838-4608-9818-ca2ab898a4cd",
   "metadata": {},
   "outputs": [],
   "source": [
    "from huggingface_hub import list_datasets"
   ]
  },
  {
   "cell_type": "code",
   "execution_count": null,
   "id": "9a2d88dc-a042-4d66-b1c0-aa5d98bcf9d4",
   "metadata": {},
   "outputs": [],
   "source": [
    "emotions = list_datasets(\"emotion\")"
   ]
  },
  {
   "cell_type": "code",
   "execution_count": null,
   "id": "eee6db73-0ccb-4993-97db-2fa180ff3b0f",
   "metadata": {
    "scrolled": true
   },
   "outputs": [],
   "source": [
    "for data in emotions:\n",
    "    print(data)"
   ]
  },
  {
   "cell_type": "code",
   "execution_count": null,
   "id": "260bcac6-7415-48cb-ac97-bdb13abc6afe",
   "metadata": {},
   "outputs": [],
   "source": [
    "import datasets\n",
    "datasets = datasets.list_datasets()\n",
    "print(datasets)"
   ]
  },
  {
   "cell_type": "code",
   "execution_count": null,
   "id": "001ef398-b3a7-497a-bda0-b0406f8612d2",
   "metadata": {},
   "outputs": [],
   "source": []
  }
 ],
 "metadata": {
  "kernelspec": {
   "display_name": "torch",
   "language": "python",
   "name": "torch"
  },
  "language_info": {
   "codemirror_mode": {
    "name": "ipython",
    "version": 3
   },
   "file_extension": ".py",
   "mimetype": "text/x-python",
   "name": "python",
   "nbconvert_exporter": "python",
   "pygments_lexer": "ipython3",
   "version": "3.10.16"
  }
 },
 "nbformat": 4,
 "nbformat_minor": 5
}
